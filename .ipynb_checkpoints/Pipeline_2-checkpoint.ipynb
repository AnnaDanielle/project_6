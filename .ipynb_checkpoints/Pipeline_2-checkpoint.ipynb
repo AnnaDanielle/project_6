{
 "cells": [
  {
   "cell_type": "markdown",
   "metadata": {},
   "source": [
    "# Project 6 - Pipeline 2 - Search"
   ]
  },
  {
   "cell_type": "code",
   "execution_count": 1,
   "metadata": {
    "collapsed": true
   },
   "outputs": [],
   "source": [
    "import os\n",
    "os.chdir('../')"
   ]
  },
  {
   "cell_type": "code",
   "execution_count": 2,
   "metadata": {
    "collapsed": false,
    "scrolled": true
   },
   "outputs": [],
   "source": [
    "import lib.encoding_module as enc\n",
    "import lib.database_module as db\n",
    "import pandas as pd\n",
    "import numpy as np\n",
    "from sklearn.externals import joblib"
   ]
  },
  {
   "cell_type": "markdown",
   "metadata": {},
   "source": [
    "## Parse: encode search as document vector"
   ]
  },
  {
   "cell_type": "code",
   "execution_count": 3,
   "metadata": {
    "collapsed": false
   },
   "outputs": [],
   "source": [
    "transformer = joblib.load('data/vectorizer.pkl')"
   ]
  },
  {
   "cell_type": "code",
   "execution_count": 4,
   "metadata": {
    "collapsed": false
   },
   "outputs": [],
   "source": [
    "TD_vector = enc.get_searchterm_vector(transformer, 'Tim Duncan')"
   ]
  },
  {
   "cell_type": "markdown",
   "metadata": {},
   "source": [
    "## Mine: select document vectors for all pages from database"
   ]
  },
  {
   "cell_type": "code",
   "execution_count": 5,
   "metadata": {
    "collapsed": false
   },
   "outputs": [
    {
     "name": "stdout",
     "output_type": "stream",
     "text": [
      "Connected to server joshuacook.me.\n"
     ]
    }
   ],
   "source": [
    "page_vectors = db.select_all_page_vectors()"
   ]
  },
  {
   "cell_type": "code",
   "execution_count": 6,
   "metadata": {
    "collapsed": false
   },
   "outputs": [],
   "source": [
    "indices = [tup[0] for tup in page_vectors]\n",
    "vectors = [tup[1] for tup in page_vectors]"
   ]
  },
  {
   "cell_type": "code",
   "execution_count": 7,
   "metadata": {
    "collapsed": true
   },
   "outputs": [],
   "source": [
    "page_vector_df = pd.DataFrame(vectors, index=indices)"
   ]
  },
  {
   "cell_type": "code",
   "execution_count": 8,
   "metadata": {
    "collapsed": false
   },
   "outputs": [
    {
     "data": {
      "text/html": [
       "<div>\n",
       "<table border=\"1\" class=\"dataframe\">\n",
       "  <thead>\n",
       "    <tr style=\"text-align: right;\">\n",
       "      <th></th>\n",
       "      <th>0</th>\n",
       "      <th>1</th>\n",
       "      <th>2</th>\n",
       "      <th>3</th>\n",
       "      <th>4</th>\n",
       "      <th>5</th>\n",
       "      <th>6</th>\n",
       "      <th>7</th>\n",
       "      <th>8</th>\n",
       "      <th>9</th>\n",
       "      <th>...</th>\n",
       "      <th>490</th>\n",
       "      <th>491</th>\n",
       "      <th>492</th>\n",
       "      <th>493</th>\n",
       "      <th>494</th>\n",
       "      <th>495</th>\n",
       "      <th>496</th>\n",
       "      <th>497</th>\n",
       "      <th>498</th>\n",
       "      <th>499</th>\n",
       "    </tr>\n",
       "  </thead>\n",
       "  <tbody>\n",
       "    <tr>\n",
       "      <th>4341789</th>\n",
       "      <td>0.092992</td>\n",
       "      <td>-0.040985</td>\n",
       "      <td>0.006952</td>\n",
       "      <td>0.000243</td>\n",
       "      <td>0.001681</td>\n",
       "      <td>0.004999</td>\n",
       "      <td>0.003430</td>\n",
       "      <td>0.003523</td>\n",
       "      <td>-0.005129</td>\n",
       "      <td>-0.001911</td>\n",
       "      <td>...</td>\n",
       "      <td>-0.021003</td>\n",
       "      <td>-0.039528</td>\n",
       "      <td>0.027716</td>\n",
       "      <td>0.021033</td>\n",
       "      <td>-0.034768</td>\n",
       "      <td>-0.022294</td>\n",
       "      <td>0.031537</td>\n",
       "      <td>-0.009710</td>\n",
       "      <td>-0.010331</td>\n",
       "      <td>0.025944</td>\n",
       "    </tr>\n",
       "    <tr>\n",
       "      <th>48201744</th>\n",
       "      <td>0.021301</td>\n",
       "      <td>0.027559</td>\n",
       "      <td>-0.003917</td>\n",
       "      <td>-0.010877</td>\n",
       "      <td>0.013055</td>\n",
       "      <td>0.000934</td>\n",
       "      <td>0.000128</td>\n",
       "      <td>0.010317</td>\n",
       "      <td>0.001444</td>\n",
       "      <td>-0.009792</td>\n",
       "      <td>...</td>\n",
       "      <td>-0.055040</td>\n",
       "      <td>0.000110</td>\n",
       "      <td>0.057817</td>\n",
       "      <td>0.005156</td>\n",
       "      <td>0.058477</td>\n",
       "      <td>0.008807</td>\n",
       "      <td>0.043527</td>\n",
       "      <td>-0.011693</td>\n",
       "      <td>0.064738</td>\n",
       "      <td>0.051296</td>\n",
       "    </tr>\n",
       "    <tr>\n",
       "      <th>2514975</th>\n",
       "      <td>0.124983</td>\n",
       "      <td>0.153025</td>\n",
       "      <td>0.026264</td>\n",
       "      <td>-0.257191</td>\n",
       "      <td>-0.210183</td>\n",
       "      <td>0.074847</td>\n",
       "      <td>0.003862</td>\n",
       "      <td>-0.009666</td>\n",
       "      <td>-0.065705</td>\n",
       "      <td>-0.280972</td>\n",
       "      <td>...</td>\n",
       "      <td>-0.022703</td>\n",
       "      <td>0.015894</td>\n",
       "      <td>-0.002476</td>\n",
       "      <td>0.004992</td>\n",
       "      <td>-0.006653</td>\n",
       "      <td>-0.017394</td>\n",
       "      <td>-0.008525</td>\n",
       "      <td>0.017188</td>\n",
       "      <td>-0.001596</td>\n",
       "      <td>0.000120</td>\n",
       "    </tr>\n",
       "    <tr>\n",
       "      <th>35135520</th>\n",
       "      <td>0.191357</td>\n",
       "      <td>-0.039003</td>\n",
       "      <td>-0.006018</td>\n",
       "      <td>0.006389</td>\n",
       "      <td>-0.001106</td>\n",
       "      <td>-0.004748</td>\n",
       "      <td>0.015829</td>\n",
       "      <td>0.005612</td>\n",
       "      <td>0.011846</td>\n",
       "      <td>0.028248</td>\n",
       "      <td>...</td>\n",
       "      <td>0.000578</td>\n",
       "      <td>-0.004204</td>\n",
       "      <td>0.030916</td>\n",
       "      <td>0.010484</td>\n",
       "      <td>-0.012454</td>\n",
       "      <td>0.026050</td>\n",
       "      <td>0.038744</td>\n",
       "      <td>0.015332</td>\n",
       "      <td>-0.008053</td>\n",
       "      <td>0.009506</td>\n",
       "    </tr>\n",
       "    <tr>\n",
       "      <th>27303975</th>\n",
       "      <td>0.034292</td>\n",
       "      <td>0.039499</td>\n",
       "      <td>-0.006095</td>\n",
       "      <td>-0.015156</td>\n",
       "      <td>0.026112</td>\n",
       "      <td>-0.039749</td>\n",
       "      <td>-0.081440</td>\n",
       "      <td>-0.036546</td>\n",
       "      <td>0.005076</td>\n",
       "      <td>0.018881</td>\n",
       "      <td>...</td>\n",
       "      <td>0.030056</td>\n",
       "      <td>-0.026965</td>\n",
       "      <td>-0.002426</td>\n",
       "      <td>0.042282</td>\n",
       "      <td>0.024082</td>\n",
       "      <td>0.004498</td>\n",
       "      <td>-0.009517</td>\n",
       "      <td>-0.005315</td>\n",
       "      <td>-0.003784</td>\n",
       "      <td>-0.010202</td>\n",
       "    </tr>\n",
       "  </tbody>\n",
       "</table>\n",
       "<p>5 rows × 500 columns</p>\n",
       "</div>"
      ],
      "text/plain": [
       "               0         1         2         3         4         5    \\\n",
       "4341789   0.092992 -0.040985  0.006952  0.000243  0.001681  0.004999   \n",
       "48201744  0.021301  0.027559 -0.003917 -0.010877  0.013055  0.000934   \n",
       "2514975   0.124983  0.153025  0.026264 -0.257191 -0.210183  0.074847   \n",
       "35135520  0.191357 -0.039003 -0.006018  0.006389 -0.001106 -0.004748   \n",
       "27303975  0.034292  0.039499 -0.006095 -0.015156  0.026112 -0.039749   \n",
       "\n",
       "               6         7         8         9      ...          490  \\\n",
       "4341789   0.003430  0.003523 -0.005129 -0.001911    ...    -0.021003   \n",
       "48201744  0.000128  0.010317  0.001444 -0.009792    ...    -0.055040   \n",
       "2514975   0.003862 -0.009666 -0.065705 -0.280972    ...    -0.022703   \n",
       "35135520  0.015829  0.005612  0.011846  0.028248    ...     0.000578   \n",
       "27303975 -0.081440 -0.036546  0.005076  0.018881    ...     0.030056   \n",
       "\n",
       "               491       492       493       494       495       496  \\\n",
       "4341789  -0.039528  0.027716  0.021033 -0.034768 -0.022294  0.031537   \n",
       "48201744  0.000110  0.057817  0.005156  0.058477  0.008807  0.043527   \n",
       "2514975   0.015894 -0.002476  0.004992 -0.006653 -0.017394 -0.008525   \n",
       "35135520 -0.004204  0.030916  0.010484 -0.012454  0.026050  0.038744   \n",
       "27303975 -0.026965 -0.002426  0.042282  0.024082  0.004498 -0.009517   \n",
       "\n",
       "               497       498       499  \n",
       "4341789  -0.009710 -0.010331  0.025944  \n",
       "48201744 -0.011693  0.064738  0.051296  \n",
       "2514975   0.017188 -0.001596  0.000120  \n",
       "35135520  0.015332 -0.008053  0.009506  \n",
       "27303975 -0.005315 -0.003784 -0.010202  \n",
       "\n",
       "[5 rows x 500 columns]"
      ]
     },
     "execution_count": 8,
     "metadata": {},
     "output_type": "execute_result"
    }
   ],
   "source": [
    "page_vector_df.head()"
   ]
  },
  {
   "cell_type": "code",
   "execution_count": 9,
   "metadata": {
    "collapsed": false
   },
   "outputs": [],
   "source": [
    "n = len(page_vector_df)"
   ]
  },
  {
   "cell_type": "code",
   "execution_count": 10,
   "metadata": {
    "collapsed": false
   },
   "outputs": [],
   "source": [
    "page_vector_df['pg_id'] = page_vector_df.index"
   ]
  },
  {
   "cell_type": "code",
   "execution_count": 11,
   "metadata": {
    "collapsed": false,
    "scrolled": false
   },
   "outputs": [],
   "source": [
    "page_vector_df.index = np.arange(n)"
   ]
  },
  {
   "cell_type": "markdown",
   "metadata": {},
   "source": [
    "## Model: find five more similar documents based on document vectors"
   ]
  },
  {
   "cell_type": "code",
   "execution_count": 12,
   "metadata": {
    "collapsed": true
   },
   "outputs": [],
   "source": [
    "from sklearn.neighbors import NearestNeighbors"
   ]
  },
  {
   "cell_type": "code",
   "execution_count": 13,
   "metadata": {
    "collapsed": true
   },
   "outputs": [],
   "source": [
    "NN = NearestNeighbors()"
   ]
  },
  {
   "cell_type": "code",
   "execution_count": 14,
   "metadata": {
    "collapsed": true
   },
   "outputs": [],
   "source": [
    "X = page_vector_df.drop('pg_id', axis = 1)\n",
    "y = page_vector_df['pg_id']"
   ]
  },
  {
   "cell_type": "code",
   "execution_count": 15,
   "metadata": {
    "collapsed": false,
    "scrolled": false
   },
   "outputs": [
    {
     "data": {
      "text/plain": [
       "NearestNeighbors(algorithm='auto', leaf_size=30, metric='minkowski',\n",
       "         metric_params=None, n_jobs=1, n_neighbors=5, p=2, radius=1.0)"
      ]
     },
     "execution_count": 15,
     "metadata": {},
     "output_type": "execute_result"
    }
   ],
   "source": [
    "NN.fit(X)"
   ]
  },
  {
   "cell_type": "code",
   "execution_count": 16,
   "metadata": {
    "collapsed": false
   },
   "outputs": [],
   "source": [
    "TD_vector = TD_vector['Tim Duncan']"
   ]
  },
  {
   "cell_type": "code",
   "execution_count": 17,
   "metadata": {
    "collapsed": false,
    "scrolled": false
   },
   "outputs": [],
   "source": [
    "similar_docs = NN.kneighbors(TD_vector)"
   ]
  },
  {
   "cell_type": "code",
   "execution_count": 18,
   "metadata": {
    "collapsed": false,
    "scrolled": true
   },
   "outputs": [],
   "source": [
    "pg_id_list = []\n",
    "for index in similar_docs[1].flatten():\n",
    "    pg_id_list.append(page_vector_df['pg_id'].loc[index])"
   ]
  },
  {
   "cell_type": "markdown",
   "metadata": {},
   "source": [
    "## Mine: Retrieve text for the five most similar documents"
   ]
  },
  {
   "cell_type": "code",
   "execution_count": 19,
   "metadata": {
    "collapsed": false
   },
   "outputs": [
    {
     "name": "stdout",
     "output_type": "stream",
     "text": [
      "Connected to server joshuacook.me.\n",
      "Simit (Turkish: simit, Arabic: سميط‎, translit. samītˤ‎, Persian: سیمیت‎, translit\n",
      "Lithuanian Footballer of the Year\n",
      "Covin (automobile)\n",
      "List of karate terms\n",
      "Duong sinh\n"
     ]
    }
   ],
   "source": [
    "# page titles\n",
    "for tup in db.select_pages(pg_id_list):\n",
    "    print tup[1]"
   ]
  }
 ],
 "metadata": {
  "anaconda-cloud": {},
  "kernelspec": {
   "display_name": "Python [conda root]",
   "language": "python",
   "name": "conda-root-py"
  },
  "language_info": {
   "codemirror_mode": {
    "name": "ipython",
    "version": 2
   },
   "file_extension": ".py",
   "mimetype": "text/x-python",
   "name": "python",
   "nbconvert_exporter": "python",
   "pygments_lexer": "ipython2",
   "version": "2.7.12"
  }
 },
 "nbformat": 4,
 "nbformat_minor": 1
}
