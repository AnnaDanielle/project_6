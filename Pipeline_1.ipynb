{
 "cells": [
  {
   "cell_type": "markdown",
   "metadata": {},
   "source": [
    "# Project 6 - Pipeline 1 - Download"
   ]
  },
  {
   "cell_type": "code",
   "execution_count": 1,
   "metadata": {
    "collapsed": true
   },
   "outputs": [],
   "source": [
    "import os\n",
    "os.chdir('../')"
   ]
  },
  {
   "cell_type": "code",
   "execution_count": 2,
   "metadata": {
    "collapsed": false
   },
   "outputs": [],
   "source": [
    "import lib.database_module as db\n",
    "import lib.encoding_module as enc\n",
    "import lib.wiki_module as wiki\n",
    "import pandas as pd"
   ]
  },
  {
   "cell_type": "code",
   "execution_count": 3,
   "metadata": {
    "collapsed": false,
    "scrolled": true
   },
   "outputs": [
    {
     "name": "stdout",
     "output_type": "stream",
     "text": [
      "Connected to server joshuacook.me.\n"
     ]
    }
   ],
   "source": [
    "conn, cur = db.connect_to_postgres()"
   ]
  },
  {
   "cell_type": "markdown",
   "metadata": {},
   "source": [
    "## Acquire: get categories to query from a yaml file"
   ]
  },
  {
   "cell_type": "code",
   "execution_count": 4,
   "metadata": {
    "collapsed": true
   },
   "outputs": [],
   "source": [
    "import yaml"
   ]
  },
  {
   "cell_type": "code",
   "execution_count": 5,
   "metadata": {
    "collapsed": true
   },
   "outputs": [],
   "source": [
    "categories = yaml.load('data/categories.yml')"
   ]
  },
  {
   "cell_type": "code",
   "execution_count": 6,
   "metadata": {
    "collapsed": false,
    "scrolled": true
   },
   "outputs": [],
   "source": [
    "with open('data/categories.yml') as yaml_file:\n",
    "    categories = yaml.load(yaml_file)"
   ]
  },
  {
   "cell_type": "markdown",
   "metadata": {},
   "source": [
    "## Acquire: query wikipedia by category for pages"
   ]
  },
  {
   "cell_type": "code",
   "execution_count": 7,
   "metadata": {
    "collapsed": false
   },
   "outputs": [],
   "source": [
    "responses = []\n",
    "for cat in categories['categories']:\n",
    "    response = wiki.query_category(cat)\n",
    "    responses.append(response)"
   ]
  },
  {
   "cell_type": "markdown",
   "metadata": {},
   "source": [
    "## Acquire: write category info to database"
   ]
  },
  {
   "cell_type": "code",
   "execution_count": 8,
   "metadata": {
    "collapsed": false
   },
   "outputs": [],
   "source": [
    "responses_df = pd.concat([pd.DataFrame(response) \n",
    "                          for response in responses])"
   ]
  },
  {
   "cell_type": "code",
   "execution_count": 9,
   "metadata": {
    "collapsed": false
   },
   "outputs": [
    {
     "data": {
      "text/html": [
       "<div>\n",
       "<table border=\"1\" class=\"dataframe\">\n",
       "  <thead>\n",
       "    <tr style=\"text-align: right;\">\n",
       "      <th></th>\n",
       "      <th>categoryid</th>\n",
       "      <th>pages</th>\n",
       "    </tr>\n",
       "  </thead>\n",
       "  <tbody>\n",
       "    <tr>\n",
       "      <th>0</th>\n",
       "      <td>691015</td>\n",
       "      <td>{u'pageid': 44760, u'title': u'Confectionery'}</td>\n",
       "    </tr>\n",
       "    <tr>\n",
       "      <th>1</th>\n",
       "      <td>691015</td>\n",
       "      <td>{u'pageid': 7976, u'title': u'Dessert'}</td>\n",
       "    </tr>\n",
       "    <tr>\n",
       "      <th>2</th>\n",
       "      <td>691015</td>\n",
       "      <td>{u'pageid': 41535911, u'title': u'List of dess...</td>\n",
       "    </tr>\n",
       "    <tr>\n",
       "      <th>3</th>\n",
       "      <td>691015</td>\n",
       "      <td>{u'pageid': 4513949, u'title': u'Afikoman'}</td>\n",
       "    </tr>\n",
       "    <tr>\n",
       "      <th>4</th>\n",
       "      <td>691015</td>\n",
       "      <td>{u'pageid': 45618991, u'title': u'Aish as-Sara...</td>\n",
       "    </tr>\n",
       "  </tbody>\n",
       "</table>\n",
       "</div>"
      ],
      "text/plain": [
       "  categoryid                                              pages\n",
       "0     691015     {u'pageid': 44760, u'title': u'Confectionery'}\n",
       "1     691015            {u'pageid': 7976, u'title': u'Dessert'}\n",
       "2     691015  {u'pageid': 41535911, u'title': u'List of dess...\n",
       "3     691015        {u'pageid': 4513949, u'title': u'Afikoman'}\n",
       "4     691015  {u'pageid': 45618991, u'title': u'Aish as-Sara..."
      ]
     },
     "execution_count": 9,
     "metadata": {},
     "output_type": "execute_result"
    }
   ],
   "source": [
    "responses_df.head()"
   ]
  },
  {
   "cell_type": "code",
   "execution_count": 10,
   "metadata": {
    "collapsed": false
   },
   "outputs": [],
   "source": [
    "cat_ids = [response['categoryid'] for response in responses]"
   ]
  },
  {
   "cell_type": "code",
   "execution_count": 11,
   "metadata": {
    "collapsed": false
   },
   "outputs": [],
   "source": [
    "zipped = zip(categories['categories'], cat_ids)"
   ]
  },
  {
   "cell_type": "code",
   "execution_count": 12,
   "metadata": {
    "collapsed": false
   },
   "outputs": [
    {
     "name": "stdout",
     "output_type": "stream",
     "text": [
      "('691015', 'desserts')\n",
      "Connected to server joshuacook.me.\n",
      "('35880954', 'health care')\n",
      "Connected to server joshuacook.me.\n",
      "('695196', 'sports cars')\n",
      "Connected to server joshuacook.me.\n"
     ]
    }
   ],
   "source": [
    "for cat in zipped:\n",
    "    print(cat[1],cat[0])\n",
    "    db.create_or_update_category_in_database(cat[1],cat[0])"
   ]
  },
  {
   "cell_type": "markdown",
   "metadata": {},
   "source": [
    "## Acquire: \n",
    "\n",
    "1. query wikipedia by page id for content\n",
    "1. write page content to database\n",
    "1. write page vector to database"
   ]
  },
  {
   "cell_type": "code",
   "execution_count": 13,
   "metadata": {
    "collapsed": false,
    "scrolled": true
   },
   "outputs": [
    {
     "name": "stdout",
     "output_type": "stream",
     "text": [
      "Connected to server joshuacook.me.\n",
      "Connected to server joshuacook.me.\n",
      "Connected to server joshuacook.me.\n",
      "Connected to server joshuacook.me.\n",
      "Connected to server joshuacook.me.\n",
      "Connected to server joshuacook.me.\n",
      "Connected to server joshuacook.me.\n",
      "Connected to server joshuacook.me.\n",
      "Connected to server joshuacook.me.\n",
      "Connected to server joshuacook.me.\n",
      "Connected to server joshuacook.me.\n",
      "Connected to server joshuacook.me.\n",
      "Connected to server joshuacook.me.\n",
      "Connected to server joshuacook.me.\n",
      "Connected to server joshuacook.me.\n",
      "Connected to server joshuacook.me.\n",
      "Connected to server joshuacook.me.\n",
      "Connected to server joshuacook.me.\n",
      "Connected to server joshuacook.me.\n",
      "Connected to server joshuacook.me.\n",
      "Connected to server joshuacook.me.\n",
      "Connected to server joshuacook.me.\n",
      "Connected to server joshuacook.me.\n",
      "Connected to server joshuacook.me.\n",
      "Connected to server joshuacook.me.\n",
      "Connected to server joshuacook.me.\n",
      "Connected to server joshuacook.me.\n",
      "Connected to server joshuacook.me.\n",
      "Connected to server joshuacook.me.\n",
      "Connected to server joshuacook.me.\n",
      "Connected to server joshuacook.me.\n",
      "Connected to server joshuacook.me.\n",
      "Connected to server joshuacook.me.\n",
      "Connected to server joshuacook.me.\n",
      "Connected to server joshuacook.me.\n",
      "Connected to server joshuacook.me.\n",
      "Connected to server joshuacook.me.\n",
      "Connected to server joshuacook.me.\n",
      "Connected to server joshuacook.me.\n",
      "Connected to server joshuacook.me.\n",
      "Connected to server joshuacook.me.\n",
      "Connected to server joshuacook.me.\n",
      "Connected to server joshuacook.me.\n",
      "Connected to server joshuacook.me.\n",
      "Connected to server joshuacook.me.\n",
      "Connected to server joshuacook.me.\n",
      "Connected to server joshuacook.me.\n",
      "Connected to server joshuacook.me.\n",
      "Connected to server joshuacook.me.\n",
      "Connected to server joshuacook.me.\n",
      "Connected to server joshuacook.me.\n",
      "Connected to server joshuacook.me.\n",
      "Connected to server joshuacook.me.\n",
      "Connected to server joshuacook.me.\n",
      "Connected to server joshuacook.me.\n",
      "Connected to server joshuacook.me.\n",
      "Connected to server joshuacook.me.\n",
      "Connected to server joshuacook.me.\n",
      "Connected to server joshuacook.me.\n",
      "Connected to server joshuacook.me.\n",
      "Connected to server joshuacook.me.\n",
      "Connected to server joshuacook.me.\n",
      "Connected to server joshuacook.me.\n",
      "Connected to server joshuacook.me.\n",
      "Connected to server joshuacook.me.\n",
      "Connected to server joshuacook.me.\n",
      "Connected to server joshuacook.me.\n",
      "Connected to server joshuacook.me.\n",
      "Connected to server joshuacook.me.\n",
      "Connected to server joshuacook.me.\n",
      "Connected to server joshuacook.me.\n",
      "Connected to server joshuacook.me.\n",
      "Connected to server joshuacook.me.\n",
      "Connected to server joshuacook.me.\n",
      "Connected to server joshuacook.me.\n",
      "Connected to server joshuacook.me.\n",
      "Connected to server joshuacook.me.\n",
      "Connected to server joshuacook.me.\n",
      "Connected to server joshuacook.me.\n",
      "Connected to server joshuacook.me.\n",
      "Connected to server joshuacook.me.\n",
      "Connected to server joshuacook.me.\n",
      "Connected to server joshuacook.me.\n",
      "Connected to server joshuacook.me.\n",
      "Connected to server joshuacook.me.\n",
      "Connected to server joshuacook.me.\n"
     ]
    }
   ],
   "source": [
    "for cat in zipped[1]:\n",
    "    pages = wiki.query_category(str(cat))\n",
    "    for page in pages['pages']:\n",
    "        page_id = str(page['pageid'])\n",
    "        title = page['title']\n",
    "        text = wiki.query_page(page_id)['text']\n",
    "        db.create_or_update_page_in_database(page_id, cat, title, text)"
   ]
  }
 ],
 "metadata": {
  "anaconda-cloud": {},
  "kernelspec": {
   "display_name": "Python [conda root]",
   "language": "python",
   "name": "conda-root-py"
  },
  "language_info": {
   "codemirror_mode": {
    "name": "ipython",
    "version": 2
   },
   "file_extension": ".py",
   "mimetype": "text/x-python",
   "name": "python",
   "nbconvert_exporter": "python",
   "pygments_lexer": "ipython2",
   "version": "2.7.12"
  }
 },
 "nbformat": 4,
 "nbformat_minor": 1
}
