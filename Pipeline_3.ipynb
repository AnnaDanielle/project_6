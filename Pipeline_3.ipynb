{
 "cells": [
  {
   "cell_type": "markdown",
   "metadata": {
    "collapsed": true
   },
   "source": [
    "# Project 6 - Pipeline 3 - Train"
   ]
  },
  {
   "cell_type": "code",
   "execution_count": 1,
   "metadata": {
    "collapsed": true
   },
   "outputs": [],
   "source": [
    "import os\n",
    "os.chdir('../')"
   ]
  },
  {
   "cell_type": "code",
   "execution_count": 2,
   "metadata": {
    "collapsed": true
   },
   "outputs": [],
   "source": [
    "import lib.encoding_module as enc\n",
    "import lib.database_module as db\n",
    "import pandas as pd\n",
    "import numpy as np\n",
    "from sklearn.externals import joblib\n",
    "from sklearn.model_selection import train_test_split\n",
    "from sklearn.preprocessing import StandardScaler\n",
    "from sklearn.neighbors import KNeighborsClassifier\n",
    "from sklearn.preprocessing import LabelEncoder\n",
    "import matplotlib.pyplot as plt\n",
    "import seaborn as sns\n",
    "\n",
    "%matplotlib inline"
   ]
  },
  {
   "cell_type": "markdown",
   "metadata": {
    "collapsed": true
   },
   "source": [
    "## Mine: select document vectors for all pages from database"
   ]
  },
  {
   "cell_type": "code",
   "execution_count": 3,
   "metadata": {
    "collapsed": false
   },
   "outputs": [],
   "source": [
    "page_vectors = db.select_all_page_vectors()"
   ]
  },
  {
   "cell_type": "code",
   "execution_count": 4,
   "metadata": {
    "collapsed": true
   },
   "outputs": [],
   "source": [
    "indices = [tup[0] for tup in page_vectors]\n",
    "vectors = [tup[1] for tup in page_vectors]"
   ]
  },
  {
   "cell_type": "code",
   "execution_count": 5,
   "metadata": {
    "collapsed": true
   },
   "outputs": [],
   "source": [
    "page_vector_df = pd.DataFrame(vectors, index=indices)"
   ]
  },
  {
   "cell_type": "markdown",
   "metadata": {
    "collapsed": true
   },
   "source": [
    "## Mine: select category ids corresponding to pages from database"
   ]
  },
  {
   "cell_type": "code",
   "execution_count": 6,
   "metadata": {
    "collapsed": true
   },
   "outputs": [],
   "source": [
    "n = len(page_vector_df)"
   ]
  },
  {
   "cell_type": "code",
   "execution_count": 7,
   "metadata": {
    "collapsed": true
   },
   "outputs": [],
   "source": [
    "page_vector_df['pg_id'] = page_vector_df.index"
   ]
  },
  {
   "cell_type": "code",
   "execution_count": 8,
   "metadata": {
    "collapsed": true
   },
   "outputs": [],
   "source": [
    "page_vector_df.index = np.arange(n)"
   ]
  },
  {
   "cell_type": "code",
   "execution_count": 9,
   "metadata": {
    "collapsed": false
   },
   "outputs": [],
   "source": [
    "pg_id_cat_dict = {}\n",
    "for pg_id in page_vector_df['pg_id']:\n",
    "    cat = db.select_categories_for_page(pg_id)[0][1]\n",
    "    pg_id_cat_dict[pg_id] = cat"
   ]
  },
  {
   "cell_type": "code",
   "execution_count": 10,
   "metadata": {
    "collapsed": false
   },
   "outputs": [],
   "source": [
    "def assign_cat_to_pg(x):\n",
    "    if x in pg_id_cat_dict:\n",
    "        return pg_id_cat_dict[x]\n",
    "\n",
    "page_vector_df['cat_id'] = page_vector_df['pg_id'].apply(assign_cat_to_pg)"
   ]
  },
  {
   "cell_type": "code",
   "execution_count": 11,
   "metadata": {
    "collapsed": false,
    "scrolled": false
   },
   "outputs": [
    {
     "data": {
      "text/html": [
       "<div>\n",
       "<table border=\"1\" class=\"dataframe\">\n",
       "  <thead>\n",
       "    <tr style=\"text-align: right;\">\n",
       "      <th></th>\n",
       "      <th>0</th>\n",
       "      <th>1</th>\n",
       "      <th>2</th>\n",
       "      <th>3</th>\n",
       "      <th>4</th>\n",
       "      <th>5</th>\n",
       "      <th>6</th>\n",
       "      <th>7</th>\n",
       "      <th>8</th>\n",
       "      <th>9</th>\n",
       "      <th>...</th>\n",
       "      <th>492</th>\n",
       "      <th>493</th>\n",
       "      <th>494</th>\n",
       "      <th>495</th>\n",
       "      <th>496</th>\n",
       "      <th>497</th>\n",
       "      <th>498</th>\n",
       "      <th>499</th>\n",
       "      <th>pg_id</th>\n",
       "      <th>cat_id</th>\n",
       "    </tr>\n",
       "  </thead>\n",
       "  <tbody>\n",
       "    <tr>\n",
       "      <th>0</th>\n",
       "      <td>0.092992</td>\n",
       "      <td>-0.040985</td>\n",
       "      <td>0.006952</td>\n",
       "      <td>0.000243</td>\n",
       "      <td>0.001681</td>\n",
       "      <td>0.004999</td>\n",
       "      <td>0.003430</td>\n",
       "      <td>0.003523</td>\n",
       "      <td>-0.005129</td>\n",
       "      <td>-0.001911</td>\n",
       "      <td>...</td>\n",
       "      <td>0.027716</td>\n",
       "      <td>0.021033</td>\n",
       "      <td>-0.034768</td>\n",
       "      <td>-0.022294</td>\n",
       "      <td>0.031537</td>\n",
       "      <td>-0.009710</td>\n",
       "      <td>-0.010331</td>\n",
       "      <td>0.025944</td>\n",
       "      <td>4341789</td>\n",
       "      <td>695196</td>\n",
       "    </tr>\n",
       "    <tr>\n",
       "      <th>1</th>\n",
       "      <td>0.021301</td>\n",
       "      <td>0.027559</td>\n",
       "      <td>-0.003917</td>\n",
       "      <td>-0.010877</td>\n",
       "      <td>0.013055</td>\n",
       "      <td>0.000934</td>\n",
       "      <td>0.000128</td>\n",
       "      <td>0.010317</td>\n",
       "      <td>0.001444</td>\n",
       "      <td>-0.009792</td>\n",
       "      <td>...</td>\n",
       "      <td>0.057817</td>\n",
       "      <td>0.005156</td>\n",
       "      <td>0.058477</td>\n",
       "      <td>0.008807</td>\n",
       "      <td>0.043527</td>\n",
       "      <td>-0.011693</td>\n",
       "      <td>0.064738</td>\n",
       "      <td>0.051296</td>\n",
       "      <td>48201744</td>\n",
       "      <td>716903</td>\n",
       "    </tr>\n",
       "    <tr>\n",
       "      <th>2</th>\n",
       "      <td>0.124983</td>\n",
       "      <td>0.153025</td>\n",
       "      <td>0.026264</td>\n",
       "      <td>-0.257191</td>\n",
       "      <td>-0.210183</td>\n",
       "      <td>0.074847</td>\n",
       "      <td>0.003862</td>\n",
       "      <td>-0.009666</td>\n",
       "      <td>-0.065705</td>\n",
       "      <td>-0.280972</td>\n",
       "      <td>...</td>\n",
       "      <td>-0.002476</td>\n",
       "      <td>0.004992</td>\n",
       "      <td>-0.006653</td>\n",
       "      <td>-0.017394</td>\n",
       "      <td>-0.008525</td>\n",
       "      <td>0.017188</td>\n",
       "      <td>-0.001596</td>\n",
       "      <td>0.000120</td>\n",
       "      <td>2514975</td>\n",
       "      <td>1489690</td>\n",
       "    </tr>\n",
       "    <tr>\n",
       "      <th>3</th>\n",
       "      <td>0.191357</td>\n",
       "      <td>-0.039003</td>\n",
       "      <td>-0.006018</td>\n",
       "      <td>0.006389</td>\n",
       "      <td>-0.001106</td>\n",
       "      <td>-0.004748</td>\n",
       "      <td>0.015829</td>\n",
       "      <td>0.005612</td>\n",
       "      <td>0.011846</td>\n",
       "      <td>0.028248</td>\n",
       "      <td>...</td>\n",
       "      <td>0.030916</td>\n",
       "      <td>0.010484</td>\n",
       "      <td>-0.012454</td>\n",
       "      <td>0.026050</td>\n",
       "      <td>0.038744</td>\n",
       "      <td>0.015332</td>\n",
       "      <td>-0.008053</td>\n",
       "      <td>0.009506</td>\n",
       "      <td>35135520</td>\n",
       "      <td>695196</td>\n",
       "    </tr>\n",
       "    <tr>\n",
       "      <th>4</th>\n",
       "      <td>0.034292</td>\n",
       "      <td>0.039499</td>\n",
       "      <td>-0.006095</td>\n",
       "      <td>-0.015156</td>\n",
       "      <td>0.026112</td>\n",
       "      <td>-0.039749</td>\n",
       "      <td>-0.081440</td>\n",
       "      <td>-0.036546</td>\n",
       "      <td>0.005076</td>\n",
       "      <td>0.018881</td>\n",
       "      <td>...</td>\n",
       "      <td>-0.002426</td>\n",
       "      <td>0.042282</td>\n",
       "      <td>0.024082</td>\n",
       "      <td>0.004498</td>\n",
       "      <td>-0.009517</td>\n",
       "      <td>-0.005315</td>\n",
       "      <td>-0.003784</td>\n",
       "      <td>-0.010202</td>\n",
       "      <td>27303975</td>\n",
       "      <td>34955640</td>\n",
       "    </tr>\n",
       "  </tbody>\n",
       "</table>\n",
       "<p>5 rows × 502 columns</p>\n",
       "</div>"
      ],
      "text/plain": [
       "          0         1         2         3         4         5         6  \\\n",
       "0  0.092992 -0.040985  0.006952  0.000243  0.001681  0.004999  0.003430   \n",
       "1  0.021301  0.027559 -0.003917 -0.010877  0.013055  0.000934  0.000128   \n",
       "2  0.124983  0.153025  0.026264 -0.257191 -0.210183  0.074847  0.003862   \n",
       "3  0.191357 -0.039003 -0.006018  0.006389 -0.001106 -0.004748  0.015829   \n",
       "4  0.034292  0.039499 -0.006095 -0.015156  0.026112 -0.039749 -0.081440   \n",
       "\n",
       "          7         8         9    ...          492       493       494  \\\n",
       "0  0.003523 -0.005129 -0.001911    ...     0.027716  0.021033 -0.034768   \n",
       "1  0.010317  0.001444 -0.009792    ...     0.057817  0.005156  0.058477   \n",
       "2 -0.009666 -0.065705 -0.280972    ...    -0.002476  0.004992 -0.006653   \n",
       "3  0.005612  0.011846  0.028248    ...     0.030916  0.010484 -0.012454   \n",
       "4 -0.036546  0.005076  0.018881    ...    -0.002426  0.042282  0.024082   \n",
       "\n",
       "        495       496       497       498       499     pg_id    cat_id  \n",
       "0 -0.022294  0.031537 -0.009710 -0.010331  0.025944   4341789    695196  \n",
       "1  0.008807  0.043527 -0.011693  0.064738  0.051296  48201744    716903  \n",
       "2 -0.017394 -0.008525  0.017188 -0.001596  0.000120   2514975   1489690  \n",
       "3  0.026050  0.038744  0.015332 -0.008053  0.009506  35135520    695196  \n",
       "4  0.004498 -0.009517 -0.005315 -0.003784 -0.010202  27303975  34955640  \n",
       "\n",
       "[5 rows x 502 columns]"
      ]
     },
     "execution_count": 11,
     "metadata": {},
     "output_type": "execute_result"
    }
   ],
   "source": [
    "page_vector_df.head()"
   ]
  },
  {
   "cell_type": "markdown",
   "metadata": {
    "collapsed": true
   },
   "source": [
    "## Refine: create data dictionary with training and testing sets"
   ]
  },
  {
   "cell_type": "code",
   "execution_count": 12,
   "metadata": {
    "collapsed": true
   },
   "outputs": [],
   "source": [
    "X = page_vector_df.drop('pg_id', axis = 1).drop('cat_id', axis = 1)\n",
    "y = page_vector_df['cat_id']"
   ]
  },
  {
   "cell_type": "code",
   "execution_count": 13,
   "metadata": {
    "collapsed": true
   },
   "outputs": [],
   "source": [
    "le = LabelEncoder()"
   ]
  },
  {
   "cell_type": "code",
   "execution_count": 14,
   "metadata": {
    "collapsed": true
   },
   "outputs": [],
   "source": [
    "y = le.fit_transform(y)"
   ]
  },
  {
   "cell_type": "code",
   "execution_count": 15,
   "metadata": {
    "collapsed": false,
    "scrolled": true
   },
   "outputs": [
    {
     "data": {
      "text/plain": [
       "['data/labenc.pkl']"
      ]
     },
     "execution_count": 15,
     "metadata": {},
     "output_type": "execute_result"
    }
   ],
   "source": [
    "joblib.dump(le, 'data/labenc.pkl')"
   ]
  },
  {
   "cell_type": "code",
   "execution_count": 16,
   "metadata": {
    "collapsed": false,
    "scrolled": true
   },
   "outputs": [],
   "source": [
    "X_train, X_test, y_train, y_test = train_test_split(X, \n",
    "                                                    y,\n",
    "                                                    random_state = 42)"
   ]
  },
  {
   "cell_type": "code",
   "execution_count": 17,
   "metadata": {
    "collapsed": true
   },
   "outputs": [],
   "source": [
    "data_dict = {'X': X,\n",
    "             'Y': y,\n",
    "             'X_train': X_train,\n",
    "             'y_train': y_train,\n",
    "             'X_test': X_test,\n",
    "             'y_test': y_test}"
   ]
  },
  {
   "cell_type": "markdown",
   "metadata": {
    "collapsed": true
   },
   "source": [
    "## Model: fit, score, and tune a multi-label classification model"
   ]
  },
  {
   "cell_type": "code",
   "execution_count": 18,
   "metadata": {
    "collapsed": false,
    "scrolled": true
   },
   "outputs": [
    {
     "name": "stdout",
     "output_type": "stream",
     "text": [
      "train score: 0.921269095182, test score: 0.846830985915\n",
      "train score: 0.895417156287, test score: 0.825704225352\n",
      "train score: 0.873678025852, test score: 0.783450704225\n",
      "train score: 0.850763807286, test score: 0.762323943662\n",
      "train score: 0.834312573443, test score: 0.75176056338\n"
     ]
    }
   ],
   "source": [
    "test_scores = []\n",
    "train_scores = []\n",
    "neighbors = np.arange(5,30,5)\n",
    "for n_neigh in neighbors:\n",
    "    KNC = KNeighborsClassifier(n_neighbors=n_neigh)\n",
    "    fit_KNC = KNC.fit(X_train, y_train)\n",
    "    train_score = fit_KNC.score(X_train, y_train)\n",
    "    test_score = fit_KNC.score(X_test, y_test)\n",
    "    train_scores.append(train_score)\n",
    "    test_scores.append(test_score)\n",
    "    print 'train score: {}, test score: {}'.format(train_score,test_score)    "
   ]
  },
  {
   "cell_type": "code",
   "execution_count": 19,
   "metadata": {
    "collapsed": false
   },
   "outputs": [
    {
     "data": {
      "image/png": "[encoded data removed]",
      "text/plain": [
       "<matplotlib.figure.Figure at 0x119baea50>"
      ]
     },
     "metadata": {},
     "output_type": "display_data"
    }
   ],
   "source": [
    "fig_1 = sns.pointplot(neighbors, test_scores, color = 'teal')\n",
    "fig_2 = sns.pointplot(neighbors, train_scores, color = 'm')\n",
    "plt.title('train and test scores')\n",
    "plt.xlabel('n_neighbors')\n",
    "plt.ylabel('score')\n",
    "plt.show()"
   ]
  },
  {
   "cell_type": "code",
   "execution_count": 20,
   "metadata": {
    "collapsed": false
   },
   "outputs": [
    {
     "name": "stdout",
     "output_type": "stream",
     "text": [
      "train score: 0.938895417156, test score: 0.818661971831\n",
      "train score: 0.925381903643, test score: 0.827464788732\n",
      "train score: 0.92303172738, test score: 0.848591549296\n",
      "train score: 0.921269095182, test score: 0.846830985915\n",
      "train score: 0.917743830787, test score: 0.859154929577\n",
      "train score: 0.904230317274, test score: 0.853873239437\n",
      "train score: 0.900705052879, test score: 0.839788732394\n",
      "train score: 0.894829612221, test score: 0.832746478873\n"
     ]
    }
   ],
   "source": [
    "test_scores = []\n",
    "train_scores = []\n",
    "neighbors = np.arange(2,10,1)\n",
    "for n_neigh in neighbors:\n",
    "    KNC = KNeighborsClassifier(n_neighbors=n_neigh)\n",
    "    fit_KNC = KNC.fit(X_train, y_train)\n",
    "    train_score = fit_KNC.score(X_train, y_train)\n",
    "    test_score = fit_KNC.score(X_test, y_test)\n",
    "    train_scores.append(train_score)\n",
    "    test_scores.append(test_score)\n",
    "    print 'train score: {}, test score: {}'.format(train_score,test_score)    "
   ]
  },
  {
   "cell_type": "code",
   "execution_count": 21,
   "metadata": {
    "collapsed": false
   },
   "outputs": [
    {
     "data": {
      "image/png": "[encoded data removed]",
      "text/plain": [
       "<matplotlib.figure.Figure at 0x11569ced0>"
      ]
     },
     "metadata": {},
     "output_type": "display_data"
    }
   ],
   "source": [
    "fig_1 = sns.pointplot(neighbors, test_scores, color = 'teal')\n",
    "fig_2 = sns.pointplot(neighbors, train_scores, color = 'm')\n",
    "plt.title('train and test scores')\n",
    "plt.xlabel('n_neighbors')\n",
    "plt.ylabel('score')\n",
    "plt.show()"
   ]
  },
  {
   "cell_type": "code",
   "execution_count": 22,
   "metadata": {
    "collapsed": false
   },
   "outputs": [
    {
     "name": "stdout",
     "output_type": "stream",
     "text": [
      "train score: 0.89, test score: 0.83\n"
     ]
    }
   ],
   "source": [
    "KNC = KNeighborsClassifier(n_neighbors=6)\n",
    "fit_KNC = KNC.fit(X_train, y_train)\n",
    "print 'train score: {}, test score: {}'.format(round(train_score,2),round(test_score,2)) "
   ]
  },
  {
   "cell_type": "markdown",
   "metadata": {
    "collapsed": true
   },
   "source": [
    "## Present: Pickle tuned model for later use"
   ]
  },
  {
   "cell_type": "code",
   "execution_count": 23,
   "metadata": {
    "collapsed": false
   },
   "outputs": [
    {
     "data": {
      "text/plain": [
       "['data/my_pickled_model.pkl']"
      ]
     },
     "execution_count": 23,
     "metadata": {},
     "output_type": "execute_result"
    }
   ],
   "source": [
    "joblib.dump(fit_KNC, 'data/my_pickled_model.pkl')"
   ]
  }
 ],
 "metadata": {
  "anaconda-cloud": {},
  "kernelspec": {
   "display_name": "Python [conda root]",
   "language": "python",
   "name": "conda-root-py"
  },
  "language_info": {
   "codemirror_mode": {
    "name": "ipython",
    "version": 2
   },
   "file_extension": ".py",
   "mimetype": "text/x-python",
   "name": "python",
   "nbconvert_exporter": "python",
   "pygments_lexer": "ipython2",
   "version": "2.7.12"
  }
 },
 "nbformat": 4,
 "nbformat_minor": 1
}
